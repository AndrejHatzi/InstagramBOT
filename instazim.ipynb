{
 "cells": [
  {
   "cell_type": "code",
   "execution_count": 3,
   "metadata": {},
   "outputs": [],
   "source": [
    "from selenium import webdriver\n",
    "from selenium.webdriver.common.keys import Keys\n",
    "from selenium.webdriver.common.action_chains import ActionChains\n",
    "import time\n",
    "import random\n",
    "\n",
    "\n",
    "driver = webdriver.Firefox()"
   ]
  },
  {
   "cell_type": "code",
   "execution_count": 51,
   "metadata": {},
   "outputs": [
    {
     "name": "stdout",
     "output_type": "stream",
     "text": [
      "<generator object Pessoa.comment_only at 0x0170BC00>\n"
     ]
    }
   ],
   "source": [
    "class Pessoa(object):\n",
    "    def __init__(proprio, email, password, hashtag):\n",
    "        proprio.email = email\n",
    "        proprio.password = password\n",
    "        proprio.hashtag = hashtag\n",
    "        \n",
    "    def login_to_instagram(proprio):\n",
    "        driver.get('https://www.instagram.com/?hl=pt')\n",
    "        time.sleep(1)\n",
    "        inputs = driver.find_element_by_xpath(\"/html/body/span/section/main/article/div[2]/div[1]/div/form/span/button\")\n",
    "        inputs.click()\n",
    "        elem = driver.find_element_by_id(\"email\")\n",
    "        elem.send_keys(proprio.email)\n",
    "        elem = driver.find_element_by_id(\"pass\")\n",
    "        elem.send_keys(proprio.password)\n",
    "        driver.find_element_by_id(\"loginbutton\").click()\n",
    "        time.sleep(8)\n",
    "        \n",
    "    def comment_only(proprio):\n",
    "        with open('trash', 'r', encoding='utf-8') as t:\n",
    "            try:\n",
    "                minecraft = t.read()\n",
    "            except:\n",
    "                pass\n",
    "        yield(minecraft)\n",
    "\n",
    "            \n",
    "            \n",
    "    def like_only(proprio):\n",
    "        driver.find_element_by_link_text(\"Gosto\").click()\n",
    "    def follow_only(proprio):\n",
    "        follow_button = driver.find_element_by_xpath(\"/html/body/span/section/main/div/div/article/header/div[2]/div[1]/div[2]/span[2]/button\")\n",
    "        follow_button.click() \n",
    "    def main_activity(proprio):\n",
    "        x = proprio.comment_only()\n",
    "        print(x)\n",
    "    \n",
    "    \n",
    "Maria = Pessoa('youremail@gmail.com', 'yourpassword', 'yourtag')\n",
    "Maria.comment_only()\n",
    "Maria.main_activity()"
   ]
  },
  {
   "cell_type": "code",
   "execution_count": 47,
   "metadata": {},
   "outputs": [],
   "source": [
    "#Maria = Pessoa('youremail@gmail.com', 'yourpassword', 'yourtag')\n",
    "#Maria.main_activity()"
   ]
  },
  {
   "cell_type": "code",
   "execution_count": null,
   "metadata": {},
   "outputs": [],
   "source": []
  },
  {
   "cell_type": "code",
   "execution_count": null,
   "metadata": {},
   "outputs": [],
   "source": []
  }
 ],
 "metadata": {
  "kernelspec": {
   "display_name": "Python 3",
   "language": "python",
   "name": "python3"
  },
  "language_info": {
   "codemirror_mode": {
    "name": "ipython",
    "version": 3
   },
   "file_extension": ".py",
   "mimetype": "text/x-python",
   "name": "python",
   "nbconvert_exporter": "python",
   "pygments_lexer": "ipython3",
   "version": "3.6.5"
  }
 },
 "nbformat": 4,
 "nbformat_minor": 2
}
