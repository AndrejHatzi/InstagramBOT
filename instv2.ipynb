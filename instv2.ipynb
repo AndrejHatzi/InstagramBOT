{
 "cells": [
  {
   "cell_type": "code",
   "execution_count": 3,
   "metadata": {
    "scrolled": false
   },
   "outputs": [],
   "source": [
    "from selenium import webdriver\n",
    "from selenium.webdriver.common.keys import Keys\n",
    "from selenium.webdriver.common.action_chains import ActionChains\n",
    "import time\n",
    "import random\n",
    "driver = webdriver.Firefox()\n",
    "\n",
    "class Pessoa(object):\n",
    "    def __init__(proprio, email, password, hashtag):\n",
    "        proprio.email = email\n",
    "        proprio.password = password\n",
    "        proprio.hashtag = hashtag\n",
    "        \n",
    "    def comment(proprio):\n",
    "        with open('trash', 'r') as f:\n",
    "            comment_hashtags = f.read()\n",
    "                    \n",
    "        filtro = [hashtag for hashtag in comment_hashtags.split() if hashtag.startswith('#')]\n",
    "        filtro = [i for i in filtro if len(i) <= 10]\n",
    "\n",
    "        next_comm = random.choice(filtro)\n",
    "        el = driver.find_element_by_xpath(\"/html/body/span/section/main/div/div/article/div[2]/section[3]/form/textarea\").click()\n",
    "        em = driver.find_element_by_xpath('/html/body/span/section/main/div/div/article/div[2]/section[3]/form/textarea')\n",
    "        ek = driver.find_element_by_xpath('/html/body/span/section/main/div/div/article/div[2]/section[3]/form/textarea')\n",
    "        em.send_keys(next_comm)\n",
    "        ek.send_keys(Keys.ENTER)\n",
    "        print(str(next_comm))\n",
    "        #time.sleep(5)\n",
    "        #actions = ActionChains(driver)\n",
    "        #actions = actions.send_keys(Keys.ENTER)\n",
    "        #actions.perform()\n",
    "        \n",
    "    def like(proprio):\n",
    "        driver.find_element_by_link_text(\"Gosto\").click()\n",
    "        time.sleep(2)\n",
    "    \n",
    "    def follow(proprio):\n",
    "        follow_button = driver.find_element_by_xpath(\"/html/body/span/section/main/div/div/article/header/div[2]/div[1]/div[2]/span[2]/button\")\n",
    "        follow_button.click()\n",
    "        time.sleep(2)\n",
    "    \n",
    "    def nothing(proprio):\n",
    "        pass\n",
    "    \n",
    "    \n",
    "    def login(proprio):\n",
    "        driver.get('https://www.instagram.com/?hl=pt')\n",
    "        time.sleep(1)\n",
    "        inputs = driver.find_element_by_xpath(\"/html/body/span/section/main/article/div[2]/div[2]/p/a\")\n",
    "        inputs.click()\n",
    "        elem = driver.find_element_by_name(\"username\")\n",
    "        elem.send_keys(proprio.email)\n",
    "        elem = driver.find_element_by_name(\"password\")\n",
    "        elem.send_keys(proprio.password)\n",
    "        #/html/body/span/section/main/article/div[2]/div[2]/p/a\n",
    "        driver.find_element_by_xpath(\"/html/body/span/section/main/div/article/div/div[1]/div/form/span/button\").click()\n",
    "        time.sleep(8)\n",
    "    \n",
    "    def main_activity(proprio):\n",
    "        driver.get('https://www.instagram.com/explore/tags/' + proprio.hashtag + '/?hl=pt')\n",
    "        time.sleep(1.67)\n",
    "        \n",
    "        for i in range(1, 3):\n",
    "            driver.execute_script(\"window.scrollTo(0, document.body.scrollHeight);\")\n",
    "            time.sleep(1.37)\n",
    "            hrefs = driver.find_elements_by_tag_name('a')\n",
    "            pic_hrefs = [elem.get_attribute('href') for elem in hrefs]\n",
    "            pic_hrefs = [href for href in pic_hrefs if proprio.hashtag in href]\n",
    "            print(proprio.hashtag + 'photos' + str(len(pic_hrefs)))\n",
    "            \n",
    "            for pic_href in pic_hrefs:\n",
    "                t = random.randint(13, 25)\n",
    "                driver.get(pic_href)\n",
    "                #driver.execute_script(\"window.scrollTo(0, document.body.scrollHeight);\")\n",
    "                for elem in driver.find_elements_by_xpath('.//span'):\n",
    "                    texto_em_span = elem.text\n",
    "                    with open('trash' , 'a') as f:\n",
    "                        try:\n",
    "                            f.write(texto_em_span + '\\n')\n",
    "                        except:\n",
    "                            pass\n",
    "                    \n",
    "                try:\n",
    "                    t = random.randint(13, 25)\n",
    "                    actions = [\"Gosto\", \"Seguir\", \"Nada\", \"Comentar\"]\n",
    "                    #actions = [\"Comentar\"]\n",
    "                    next_mov = random.choice(actions)\n",
    "                    print(next_mov)\n",
    "                    \n",
    "                    if next_mov == \"Gosto\":\n",
    "                        proprio.like()\n",
    "                        time.sleep(t)\n",
    "                        \n",
    "                    if next_mov == \"Seguir\":\n",
    "                        proprio.follow()\n",
    "                        time.sleep(t)\n",
    "                                   \n",
    "                    if next_mov == \"Nada\":\n",
    "                        proprio.nothing()\n",
    "                        time.sleep(t)\n",
    "                        \n",
    "                    if next_mov == \"Comentar\":\n",
    "                        driver.get(pic_href)\n",
    "                        proprio.comment()\n",
    "                        time.sleep(3)\n",
    "                    \n",
    "                except Exception as e:\n",
    "                    time.sleep(2)\n",
    "            \n",
    "        \n",
    "\n",
    "\n",
    "Maria = Pessoa('youremail@gmail.com', 'yourpassword', 'yourtag')\n",
    "#Maria.login()\n",
    "#Maria.main_activity()\n"
   ]
  },
  {
   "cell_type": "code",
   "execution_count": 5,
   "metadata": {
    "scrolled": true
   },
   "outputs": [
    {
     "name": "stdout",
     "output_type": "stream",
     "text": [
      "#porto\n"
     ]
    }
   ],
   "source": [
    "driver.get('https://www.instagram.com/p/BjdFxglHDuq/?taken-by=mecookmeeatnow')\n",
    "Maria.comment()"
   ]
  },
  {
   "cell_type": "code",
   "execution_count": 5,
   "metadata": {
    "scrolled": false
   },
   "outputs": [
    {
     "name": "stdout",
     "output_type": "stream",
     "text": [
      "lisboaphotos34\n",
      "Nada\n",
      "Seguir\n",
      "Nada\n",
      "Comentar\n",
      "#CHCCPT\n",
      "Comentar\n",
      "Seguir\n",
      "Comentar\n",
      "Nada\n",
      "Nada\n",
      "Comentar\n",
      "Comentar\n",
      "Seguir\n",
      "Seguir\n",
      "Seguir\n",
      "Nada\n",
      "Gosto\n",
      "Nada\n",
      "Nada\n",
      "Nada\n",
      "Seguir\n",
      "Gosto\n",
      "Comentar\n",
      "Seguir\n",
      "Seguir\n",
      "Gosto\n",
      "Seguir\n",
      "Nada\n",
      "Seguir\n",
      "Nada\n",
      "Comentar\n",
      "Comentar\n",
      "Gosto\n",
      "Nada\n",
      "Seguir\n",
      "lisboaphotos4\n",
      "Comentar\n",
      "Seguir\n",
      "Comentar\n",
      "#belem\n",
      "Seguir\n"
     ]
    }
   ],
   "source": [
    "Maria.main_activity()"
   ]
  },
  {
   "cell_type": "code",
   "execution_count": null,
   "metadata": {
    "scrolled": false
   },
   "outputs": [],
   "source": [
    "with open('trash', 'r') as f:\n",
    "    comment_hashtags = f.read()\n",
    "                    \n",
    "filtro = [hashtag for hashtag in comment_hashtags.split() if hashtag.startswith('#')]\n",
    "filtro = [i for i in filtro if len(i) <= 10]\n",
    "print(filtro)"
   ]
  },
  {
   "cell_type": "code",
   "execution_count": 4,
   "metadata": {},
   "outputs": [],
   "source": [
    "Maria.login()"
   ]
  },
  {
   "cell_type": "code",
   "execution_count": null,
   "metadata": {},
   "outputs": [],
   "source": [
    "'''\n",
    "Try to follow steps carefully\n",
    "1. Download Hola vpn android app\n",
    "2. Set server location to japan\n",
    "3. Now open chrome browser from Hola vpn\n",
    "4. Enter your Facebook user name and password\n",
    "5. Then you will automatically redirect to date of birth section\n",
    "6. Enter your date of birth and then press enter\n",
    "7. Now you are done \n",
    "'''"
   ]
  }
 ],
 "metadata": {
  "kernelspec": {
   "display_name": "Python 3",
   "language": "python",
   "name": "python3"
  },
  "language_info": {
   "codemirror_mode": {
    "name": "ipython",
    "version": 3
   },
   "file_extension": ".py",
   "mimetype": "text/x-python",
   "name": "python",
   "nbconvert_exporter": "python",
   "pygments_lexer": "ipython3",
   "version": "3.6.5"
  }
 },
 "nbformat": 4,
 "nbformat_minor": 2
}
